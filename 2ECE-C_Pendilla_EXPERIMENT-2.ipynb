{
 "cells": [
  {
   "cell_type": "markdown",
   "id": "49cd900f-17c5-4aaf-be4c-e1b2b34606d0",
   "metadata": {},
   "source": [
    "# EXPERIMENT 2 | Dwayne Pendilla | 2ECE-C"
   ]
  },
  {
   "cell_type": "markdown",
   "id": "39a0aa56-41ae-4200-be7f-4542f031897c",
   "metadata": {},
   "source": [
    "***NORMALIZATION PROBLEM***"
   ]
  },
  {
   "cell_type": "code",
   "execution_count": 3,
   "id": "1c16c2de-076f-4d39-aeb5-eb05133f3eaa",
   "metadata": {},
   "outputs": [],
   "source": [
    "import numpy as np"
   ]
  },
  {
   "cell_type": "code",
   "execution_count": 17,
   "id": "161d00e6-ec14-4204-b7e4-d4ab0ec2ac59",
   "metadata": {},
   "outputs": [
    {
     "name": "stdout",
     "output_type": "stream",
     "text": [
      "[[-1.32065958  1.17068468 -1.40097199  1.92335374  1.22825283]\n",
      " [-0.20323802 -0.54218002 -0.40045438 -0.67061986  1.05677878]\n",
      " [-0.51937567 -0.06857632  0.85399815  0.26301573  0.71434929]\n",
      " [-1.02728126 -0.91021011  1.64706253  1.21208174 -0.09237526]\n",
      " [-0.21795145  0.8451867  -1.00946065 -1.33714598 -1.19426362]]\n"
     ]
    }
   ],
   "source": [
    "# Generate the 5x5 array with random numbers\n",
    "x = np.random.random((5,5))\n",
    "# Get the Mean and Standard Dev of the Array\n",
    "y = x.mean()\n",
    "z = x.std()\n",
    "\n",
    "# Normalized x\n",
    "normx = (x-y)/z\n",
    "print(normx)"
   ]
  },
  {
   "cell_type": "code",
   "execution_count": 15,
   "id": "31c08305-7684-4505-8acd-1385a9c00180",
   "metadata": {},
   "outputs": [
    {
     "name": "stdout",
     "output_type": "stream",
     "text": [
      "[[-1.08562831 -0.4285293   0.86498495  1.19126272 -1.13288855]\n",
      " [-0.45165654 -0.44870269 -0.22720696  0.78724219 -0.73562081]\n",
      " [ 1.8775793  -0.3357337  -1.34529986 -1.58763416  0.06295943]\n",
      " [-0.47268579  2.1765985   0.62960567  0.49989006 -0.89206262]\n",
      " [-0.79368255 -0.49729499  1.31465268  1.2422044  -0.21235305]]\n"
     ]
    }
   ],
   "source": [
    "# Generate the 5x5 array with random numbers\n",
    "prog = np.random.random((5, 5))\n",
    "# Get the Mean and Standard Dev of the Array\n",
    "y = prog.mean()\n",
    "z = prog.std()\n",
    "\n",
    "# Normalized prog\n",
    "normprog = (prog-y)/z\n",
    "print(normprog)"
   ]
  },
  {
   "cell_type": "markdown",
   "id": "1079ee8f-2da9-4cc3-acaa-ee016a3f0954",
   "metadata": {},
   "source": [
    "***DIVISIBLE BY 3 PROBLEM***"
   ]
  },
  {
   "cell_type": "code",
   "execution_count": 228,
   "id": "4d646084-515c-4fff-952a-9748d4439644",
   "metadata": {},
   "outputs": [
    {
     "name": "stdout",
     "output_type": "stream",
     "text": [
      "Array of squares: \n",
      " [[    1     4     9    16    25    36    49    64    81   100]\n",
      " [  121   144   169   196   225   256   289   324   361   400]\n",
      " [  441   484   529   576   625   676   729   784   841   900]\n",
      " [  961  1024  1089  1156  1225  1296  1369  1444  1521  1600]\n",
      " [ 1681  1764  1849  1936  2025  2116  2209  2304  2401  2500]\n",
      " [ 2601  2704  2809  2916  3025  3136  3249  3364  3481  3600]\n",
      " [ 3721  3844  3969  4096  4225  4356  4489  4624  4761  4900]\n",
      " [ 5041  5184  5329  5476  5625  5776  5929  6084  6241  6400]\n",
      " [ 6561  6724  6889  7056  7225  7396  7569  7744  7921  8100]\n",
      " [ 8281  8464  8649  8836  9025  9216  9409  9604  9801 10000]]\n",
      "\n",
      "Elements divisible by 3: \n",
      " [[   9   36   81  144  225  324  441  576  729  900 1089]\n",
      " [1296 1521 1764 2025 2304 2601 2916 3249 3600 3969 4356]\n",
      " [4761 5184 5625 6084 6561 7056 7569 8100 8649 9216 9801]]\n"
     ]
    }
   ],
   "source": [
    "# Generate the 10x10 array with the square of the first 100 pos integers\n",
    "d = np.arange(1,101).reshape(10,10)**2\n",
    "# Find all elements divisible by 3\n",
    "by3 = d[d % 3 == 0].reshape(3,11)\n",
    "\n",
    "# Print the 10x10 array and the elements divisble by 3\n",
    "print(\"Array of squares: \\n\", d)\n",
    "print(\"\\nElements divisible by 3: \\n\", by3)"
   ]
  },
  {
   "cell_type": "markdown",
   "id": "e16c00e2-7612-4643-b6ab-bc08875ca077",
   "metadata": {},
   "source": [
    "## Thank you!"
   ]
  },
  {
   "cell_type": "code",
   "execution_count": null,
   "id": "a9f7cba5-5872-4369-8782-7546f719e505",
   "metadata": {},
   "outputs": [],
   "source": []
  }
 ],
 "metadata": {
  "kernelspec": {
   "display_name": "Python 3 (ipykernel)",
   "language": "python",
   "name": "python3"
  },
  "language_info": {
   "codemirror_mode": {
    "name": "ipython",
    "version": 3
   },
   "file_extension": ".py",
   "mimetype": "text/x-python",
   "name": "python",
   "nbconvert_exporter": "python",
   "pygments_lexer": "ipython3",
   "version": "3.12.4"
  }
 },
 "nbformat": 4,
 "nbformat_minor": 5
}
