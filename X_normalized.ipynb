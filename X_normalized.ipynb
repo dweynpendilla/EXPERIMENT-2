{
 "cells": [
  {
   "cell_type": "markdown",
   "id": "5a0075b5-552b-42b0-a836-8f0bd52f6458",
   "metadata": {},
   "source": [
    "# EXPERIMENT 2 | Dwayne Pendilla | 2ECE-C"
   ]
  },
  {
   "cell_type": "markdown",
   "id": "6f202717-c6e4-45b0-82dc-a1ab7a1bdaa6",
   "metadata": {},
   "source": [
    "***NORMALIZATION PROBLEM***"
   ]
  },
  {
   "cell_type": "code",
   "execution_count": 3,
   "id": "df61775e-a900-469d-862c-5fe2fe737e73",
   "metadata": {},
   "outputs": [],
   "source": [
    "import numpy as np"
   ]
  },
  {
   "cell_type": "code",
   "execution_count": 5,
   "id": "02e6386d-ad99-48d0-b1d5-d911e9d81862",
   "metadata": {},
   "outputs": [
    {
     "data": {
      "text/plain": [
       "array([[0.30073579, 0.70541048, 0.66754612, 0.46440358, 0.15759341],\n",
       "       [0.71222064, 0.81507909, 0.95914745, 0.92048035, 0.40564243],\n",
       "       [0.47417635, 0.61397823, 0.61390961, 0.31216384, 0.13908434],\n",
       "       [0.43721042, 0.35925918, 0.60535553, 0.5984263 , 0.90940326],\n",
       "       [0.49334688, 0.62768422, 0.16007309, 0.22578747, 0.0968594 ]])"
      ]
     },
     "execution_count": 5,
     "metadata": {},
     "output_type": "execute_result"
    }
   ],
   "source": [
    "# Generate the 5x5 array with random numbers\n",
    "x = np.random.random((5,5))\n",
    "x"
   ]
  },
  {
   "cell_type": "code",
   "execution_count": 7,
   "id": "0e9f8ea6-5dec-4278-8cab-cc48a197f394",
   "metadata": {},
   "outputs": [
    {
     "name": "stdout",
     "output_type": "stream",
     "text": [
      "The MEAN of the array is  0.5109990984658052\n",
      "The STANDARD DEVIATION of the array is  0.2482119840919737\n"
     ]
    }
   ],
   "source": [
    "# Get and print the Mean and Standard Dev of the Array\n",
    "print(\"The MEAN of the array is \", x.mean())\n",
    "print(\"The STANDARD DEVIATION of the array is \", x.std())"
   ]
  },
  {
   "cell_type": "code",
   "execution_count": 9,
   "id": "0ccafe65-2787-4638-9530-1e45de1fb2aa",
   "metadata": {},
   "outputs": [
    {
     "data": {
      "text/plain": [
       "array([[0.51828691, 0.0991398 , 0.2762602 , 0.50867274, 0.36992152],\n",
       "       [0.71115167, 0.85813515, 0.38754161, 0.14473095, 0.72606398],\n",
       "       [0.44269958, 0.49804093, 0.43606448, 0.2361265 , 0.0796714 ],\n",
       "       [0.97682376, 0.72606404, 0.4783371 , 0.6317343 , 0.49453509],\n",
       "       [0.58644713, 0.89292304, 0.19316401, 0.87479068, 0.84920633]])"
      ]
     },
     "execution_count": 9,
     "metadata": {},
     "output_type": "execute_result"
    }
   ],
   "source": [
    "# Generate the 5x5 array with random numbers\n",
    "prog = np.random.random((5, 5))\n",
    "prog"
   ]
  },
  {
   "cell_type": "code",
   "execution_count": 11,
   "id": "ee5aa8c5-ddfa-4942-ad61-d70d7011f54a",
   "metadata": {},
   "outputs": [
    {
     "name": "stdout",
     "output_type": "stream",
     "text": [
      "The MEAN of the array is  0.519861315721084\n",
      "The STANDARD DEVIATION of the array is  0.2568620352652231\n"
     ]
    }
   ],
   "source": [
    "# Get and print the Meand and Standard Dev of the Array\n",
    "print(\"The MEAN of the array is \", prog.mean())\n",
    "print(\"The STANDARD DEVIATION of the array is \", prog.std())"
   ]
  },
  {
   "cell_type": "code",
   "execution_count": null,
   "id": "a793c922-b90e-45ae-a2b9-af3e0b407d18",
   "metadata": {},
   "outputs": [],
   "source": []
  }
 ],
 "metadata": {
  "kernelspec": {
   "display_name": "Python 3 (ipykernel)",
   "language": "python",
   "name": "python3"
  },
  "language_info": {
   "codemirror_mode": {
    "name": "ipython",
    "version": 3
   },
   "file_extension": ".py",
   "mimetype": "text/x-python",
   "name": "python",
   "nbconvert_exporter": "python",
   "pygments_lexer": "ipython3",
   "version": "3.12.4"
  }
 },
 "nbformat": 4,
 "nbformat_minor": 5
}
