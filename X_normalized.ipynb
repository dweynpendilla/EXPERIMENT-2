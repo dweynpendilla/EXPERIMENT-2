{
 "cells": [
  {
   "cell_type": "markdown",
   "id": "5a0075b5-552b-42b0-a836-8f0bd52f6458",
   "metadata": {},
   "source": [
    "# EXPERIMENT 2 | Dwayne Pendilla | 2ECE-C"
   ]
  },
  {
   "cell_type": "markdown",
   "id": "6f202717-c6e4-45b0-82dc-a1ab7a1bdaa6",
   "metadata": {},
   "source": [
    "***NORMALIZATION PROBLEM***"
   ]
  },
  {
   "cell_type": "code",
   "execution_count": 9,
   "id": "df61775e-a900-469d-862c-5fe2fe737e73",
   "metadata": {},
   "outputs": [],
   "source": [
    "import numpy as np"
   ]
  },
  {
   "cell_type": "code",
   "execution_count": 15,
   "id": "02e6386d-ad99-48d0-b1d5-d911e9d81862",
   "metadata": {},
   "outputs": [
    {
     "name": "stdout",
     "output_type": "stream",
     "text": [
      "[[-0.35285264  0.48954446 -0.39140255 -0.70094645 -0.82313116]\n",
      " [ 1.02429158  0.89653773  0.99335669 -0.08947939  1.54259174]\n",
      " [-1.39218093  0.24307406 -0.67864008  1.47997975  2.07400867]\n",
      " [-1.08806247  1.35633931 -1.12786656  0.14899238  0.87324761]\n",
      " [-0.74561542 -0.93598438 -0.95204579 -1.01756708 -0.82618909]]\n"
     ]
    }
   ],
   "source": [
    "# Generate the 5x5 array with random numbers\n",
    "x = np.random.random((5,5))\n",
    "# Get the Mean and Standard Dev of the Array\n",
    "y = x.mean()\n",
    "z = x.std()\n",
    "\n",
    "# Normalized x\n",
    "normx = (x-y)/z\n",
    "print(normx)"
   ]
  },
  {
   "cell_type": "code",
   "execution_count": 17,
   "id": "0ccafe65-2787-4638-9530-1e45de1fb2aa",
   "metadata": {},
   "outputs": [
    {
     "name": "stdout",
     "output_type": "stream",
     "text": [
      "[[ 0.1241402   0.82599337  0.73346779  1.52208638 -0.33319395]\n",
      " [-0.20773483 -1.61947072 -0.1235819   1.4917289  -1.34784384]\n",
      " [-1.64807559  1.40614594 -0.19602226 -0.19263991  1.26896819]\n",
      " [-0.05636224 -0.41901249 -0.7089994  -0.79995213  0.28986408]\n",
      " [ 1.13951457  1.64750763 -0.64392189 -1.28207015 -0.87053576]]\n"
     ]
    }
   ],
   "source": [
    "# Generate the 5x5 array with random numbers\n",
    "prog = np.random.random((5, 5))\n",
    "# Get the Mean and Standard Dev of the Array\n",
    "y = prog.mean()\n",
    "z = prog.std()\n",
    "\n",
    "# Normalized prog\n",
    "normprog = (prog-y)/z\n",
    "print(normprog)"
   ]
  },
  {
   "cell_type": "code",
   "execution_count": null,
   "id": "a793c922-b90e-45ae-a2b9-af3e0b407d18",
   "metadata": {},
   "outputs": [],
   "source": []
  }
 ],
 "metadata": {
  "kernelspec": {
   "display_name": "Python 3 (ipykernel)",
   "language": "python",
   "name": "python3"
  },
  "language_info": {
   "codemirror_mode": {
    "name": "ipython",
    "version": 3
   },
   "file_extension": ".py",
   "mimetype": "text/x-python",
   "name": "python",
   "nbconvert_exporter": "python",
   "pygments_lexer": "ipython3",
   "version": "3.12.4"
  }
 },
 "nbformat": 4,
 "nbformat_minor": 5
}
