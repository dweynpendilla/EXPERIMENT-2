{
 "cells": [
  {
   "cell_type": "markdown",
   "id": "9f3780e6-4bad-4f14-ab5d-a1bd5cb4cdd0",
   "metadata": {},
   "source": [
    "# EXPERIMENT 2 | Dwayne Pendilla | 2ECE-C"
   ]
  },
  {
   "cell_type": "markdown",
   "id": "00d8ed99-1de2-49d3-bb05-89d7f64169a9",
   "metadata": {},
   "source": [
    "***DIVISIBLE BY 3 PROBLEM***"
   ]
  },
  {
   "cell_type": "code",
   "execution_count": 6,
   "id": "9399887f-2f10-4ed3-b184-65b727667e28",
   "metadata": {},
   "outputs": [],
   "source": [
    "import numpy as np"
   ]
  },
  {
   "cell_type": "code",
   "execution_count": 8,
   "id": "eeb23398-830a-44cd-9cff-2ef0f164ac16",
   "metadata": {},
   "outputs": [
    {
     "name": "stdout",
     "output_type": "stream",
     "text": [
      "Array of squares: \n",
      " [[    1     4     9    16    25    36    49    64    81   100]\n",
      " [  121   144   169   196   225   256   289   324   361   400]\n",
      " [  441   484   529   576   625   676   729   784   841   900]\n",
      " [  961  1024  1089  1156  1225  1296  1369  1444  1521  1600]\n",
      " [ 1681  1764  1849  1936  2025  2116  2209  2304  2401  2500]\n",
      " [ 2601  2704  2809  2916  3025  3136  3249  3364  3481  3600]\n",
      " [ 3721  3844  3969  4096  4225  4356  4489  4624  4761  4900]\n",
      " [ 5041  5184  5329  5476  5625  5776  5929  6084  6241  6400]\n",
      " [ 6561  6724  6889  7056  7225  7396  7569  7744  7921  8100]\n",
      " [ 8281  8464  8649  8836  9025  9216  9409  9604  9801 10000]]\n",
      "\n",
      "Elements divisible by 3: \n",
      " [[   9   36   81  144  225  324  441  576  729  900 1089]\n",
      " [1296 1521 1764 2025 2304 2601 2916 3249 3600 3969 4356]\n",
      " [4761 5184 5625 6084 6561 7056 7569 8100 8649 9216 9801]]\n"
     ]
    }
   ],
   "source": [
    "# Generate the 10x10 array with the square of the first 100 pos integers\n",
    "d = np.arange(1,101).reshape(10,10)**2\n",
    "# Find all elements divisible by 3\n",
    "by3 = d[d % 3 == 0].reshape(3,11)\n",
    "\n",
    "# Print the 10x10 array and the elements divisble by 3\n",
    "print(\"Array of squares: \\n\", d)\n",
    "print(\"\\nElements divisible by 3: \\n\", by3)"
   ]
  },
  {
   "cell_type": "code",
   "execution_count": null,
   "id": "c4860ac2-2ccc-4ef3-a80c-c739736f785a",
   "metadata": {},
   "outputs": [],
   "source": []
  }
 ],
 "metadata": {
  "kernelspec": {
   "display_name": "Python 3 (ipykernel)",
   "language": "python",
   "name": "python3"
  },
  "language_info": {
   "codemirror_mode": {
    "name": "ipython",
    "version": 3
   },
   "file_extension": ".py",
   "mimetype": "text/x-python",
   "name": "python",
   "nbconvert_exporter": "python",
   "pygments_lexer": "ipython3",
   "version": "3.12.4"
  }
 },
 "nbformat": 4,
 "nbformat_minor": 5
}
